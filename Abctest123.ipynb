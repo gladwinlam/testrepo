{
 "cells": [
  {
   "cell_type": "code",
   "execution_count": 1,
   "id": "a1f9d03c-eeae-48e2-aa12-ed69b173f6a1",
   "metadata": {
    "tags": []
   },
   "outputs": [
    {
     "data": {
      "text/plain": [
       "2"
      ]
     },
     "execution_count": 1,
     "metadata": {},
     "output_type": "execute_result"
    }
   ],
   "source": [
    "1+1"
   ]
  },
  {
   "cell_type": "code",
   "execution_count": 5,
   "id": "42e7b291-abbc-482a-9950-3bdf5ce64372",
   "metadata": {},
   "outputs": [
    {
     "data": {
      "text/plain": [
       "297"
      ]
     },
     "execution_count": 5,
     "metadata": {},
     "output_type": "execute_result"
    }
   ],
   "source": [
    "99*3"
   ]
  },
  {
   "cell_type": "markdown",
   "id": "1112deba-3026-4a40-8b5a-95541285e961",
   "metadata": {},
   "source": [
    "**My title** ## 123"
   ]
  },
  {
   "cell_type": "markdown",
   "id": "fd64e234-615e-44d9-ae49-5e6e50102e18",
   "metadata": {
    "tags": []
   },
   "source": [
    "## 123\n",
    "abcdefh"
   ]
  },
  {
   "cell_type": "code",
   "execution_count": null,
   "id": "4473fdc0-2cc8-421f-8f0d-f0a97e9cef65",
   "metadata": {},
   "outputs": [],
   "source": []
  }
 ],
 "metadata": {
  "kernelspec": {
   "display_name": "Python",
   "language": "python",
   "name": "conda-env-python-py"
  },
  "language_info": {
   "codemirror_mode": {
    "name": "ipython",
    "version": 3
   },
   "file_extension": ".py",
   "mimetype": "text/x-python",
   "name": "python",
   "nbconvert_exporter": "python",
   "pygments_lexer": "ipython3",
   "version": "3.7.12"
  }
 },
 "nbformat": 4,
 "nbformat_minor": 5
}
